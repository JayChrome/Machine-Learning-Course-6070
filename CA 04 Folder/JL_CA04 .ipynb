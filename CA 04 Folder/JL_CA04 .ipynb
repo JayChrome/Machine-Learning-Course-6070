{
 "cells": [
  {
   "cell_type": "markdown",
   "metadata": {
    "id": "RQlVgtvKxBWt",
    "tags": []
   },
   "source": [
    "# 1. Data Source and Contents"
   ]
  },
  {
   "cell_type": "code",
   "execution_count": null,
   "metadata": {
    "id": "7pd-Gp2vef5g"
   },
   "outputs": [],
   "source": [
    "!pip install --upgrade pip\n",
    "!pip install scikit-learn \n",
    "!pip install numpy\n",
    "!pip install pandas"
   ]
  },
  {
   "cell_type": "code",
   "execution_count": 109,
   "metadata": {
    "id": "5qyominScpyR"
   },
   "outputs": [],
   "source": [
    "#Import necessary libraries\n",
    "import time\n",
    "from datetime import datetime\n",
    "import seaborn as sns\n",
    "import matplotlib.pyplot as plt\n",
    "%matplotlib inline \n",
    "plt.style.use('seaborn-whitegrid')\n",
    "import pandas as pd\n",
    "from sklearn.tree import DecisionTreeClassifier\n",
    "from sklearn.metrics import classification_report\n",
    "import numpy as np\n",
    "from sklearn.tree import export_graphviz\n",
    "from sklearn.metrics import confusion_matrix\n",
    "import math\n",
    "from sklearn.metrics import precision_recall_fscore_support"
   ]
  },
  {
   "cell_type": "code",
   "execution_count": 110,
   "metadata": {
    "id": "NT89UE1l7r2j"
   },
   "outputs": [],
   "source": [
    "#load the data \n",
    "url = 'https://github.com/ArinB/MSBA-CA-03-Decision-Trees/blob/master/census_data.csv?raw=true'\n",
    "\n",
    "df = pd.read_csv(url, sep=\",\")"
   ]
  },
  {
   "cell_type": "code",
   "execution_count": 111,
   "metadata": {
    "colab": {
     "base_uri": "https://localhost:8080/",
     "height": 860
    },
    "id": "pShGCbOtjkAR",
    "outputId": "2c10b22b-f4cb-4a5e-cd33-92e3361c369f"
   },
   "outputs": [
    {
     "name": "stdout",
     "output_type": "stream",
     "text": [
      "      hours_per_week_bin occupation_bin msr_bin capital_gl_bin race_sex_bin  \\\n",
      "0                  31-40      Mid - Low     Mid            > 0         High   \n",
      "1                   0-30           High    High            = 0         High   \n",
      "2                  31-40            Low     Mid            = 0         High   \n",
      "3                  31-40            Low    High            = 0          Mid   \n",
      "4                  31-40           High    High            = 0          Low   \n",
      "...                  ...            ...     ...            ...          ...   \n",
      "48837              31-40           High     Mid            = 0          Mid   \n",
      "48838              31-40      Mid - Low     Low            = 0          Mid   \n",
      "48839      41-50 & 61-70           High    High            = 0         High   \n",
      "48840              31-40      Mid - Low     Low            > 0         High   \n",
      "48841              51-60           High    High            = 0         High   \n",
      "\n",
      "      education_num_bin education_bin workclass_bin          age_bin   flag  y  \n",
      "0                    13     Bachelors        income    36-40 & 56-60  train  0  \n",
      "1                    13     Bachelors        income            40-55  train  0  \n",
      "2                  9-12           Mid        income    36-40 & 56-60  train  0  \n",
      "3                   0-8           Low        income            40-55  train  0  \n",
      "4                    13     Bachelors        income   26-30 & 71-100  train  0  \n",
      "...                 ...           ...           ...              ...    ... ..  \n",
      "48837                13     Bachelors        income    36-40 & 56-60   test  0  \n",
      "48838              9-12           Mid     no income    31-35 & 61-70   test  0  \n",
      "48839                13     Bachelors        income    36-40 & 56-60   test  0  \n",
      "48840                13     Bachelors        income            40-55   test  0  \n",
      "48841                13     Bachelors        income    31-35 & 61-70   test  1  \n",
      "\n",
      "[48842 rows x 11 columns]\n"
     ]
    },
    {
     "data": {
      "text/html": [
       "<div>\n",
       "<style scoped>\n",
       "    .dataframe tbody tr th:only-of-type {\n",
       "        vertical-align: middle;\n",
       "    }\n",
       "\n",
       "    .dataframe tbody tr th {\n",
       "        vertical-align: top;\n",
       "    }\n",
       "\n",
       "    .dataframe thead th {\n",
       "        text-align: right;\n",
       "    }\n",
       "</style>\n",
       "<table border=\"1\" class=\"dataframe\">\n",
       "  <thead>\n",
       "    <tr style=\"text-align: right;\">\n",
       "      <th></th>\n",
       "      <th>hours_per_week_bin</th>\n",
       "      <th>occupation_bin</th>\n",
       "      <th>msr_bin</th>\n",
       "      <th>capital_gl_bin</th>\n",
       "      <th>race_sex_bin</th>\n",
       "      <th>education_num_bin</th>\n",
       "      <th>education_bin</th>\n",
       "      <th>workclass_bin</th>\n",
       "      <th>age_bin</th>\n",
       "      <th>flag</th>\n",
       "      <th>y</th>\n",
       "    </tr>\n",
       "  </thead>\n",
       "  <tbody>\n",
       "    <tr>\n",
       "      <th>0</th>\n",
       "      <td>31-40</td>\n",
       "      <td>Mid - Low</td>\n",
       "      <td>Mid</td>\n",
       "      <td>&gt; 0</td>\n",
       "      <td>High</td>\n",
       "      <td>13</td>\n",
       "      <td>Bachelors</td>\n",
       "      <td>income</td>\n",
       "      <td>36-40 &amp; 56-60</td>\n",
       "      <td>train</td>\n",
       "      <td>0</td>\n",
       "    </tr>\n",
       "    <tr>\n",
       "      <th>1</th>\n",
       "      <td>0-30</td>\n",
       "      <td>High</td>\n",
       "      <td>High</td>\n",
       "      <td>= 0</td>\n",
       "      <td>High</td>\n",
       "      <td>13</td>\n",
       "      <td>Bachelors</td>\n",
       "      <td>income</td>\n",
       "      <td>40-55</td>\n",
       "      <td>train</td>\n",
       "      <td>0</td>\n",
       "    </tr>\n",
       "    <tr>\n",
       "      <th>2</th>\n",
       "      <td>31-40</td>\n",
       "      <td>Low</td>\n",
       "      <td>Mid</td>\n",
       "      <td>= 0</td>\n",
       "      <td>High</td>\n",
       "      <td>9-12</td>\n",
       "      <td>Mid</td>\n",
       "      <td>income</td>\n",
       "      <td>36-40 &amp; 56-60</td>\n",
       "      <td>train</td>\n",
       "      <td>0</td>\n",
       "    </tr>\n",
       "    <tr>\n",
       "      <th>3</th>\n",
       "      <td>31-40</td>\n",
       "      <td>Low</td>\n",
       "      <td>High</td>\n",
       "      <td>= 0</td>\n",
       "      <td>Mid</td>\n",
       "      <td>0-8</td>\n",
       "      <td>Low</td>\n",
       "      <td>income</td>\n",
       "      <td>40-55</td>\n",
       "      <td>train</td>\n",
       "      <td>0</td>\n",
       "    </tr>\n",
       "    <tr>\n",
       "      <th>4</th>\n",
       "      <td>31-40</td>\n",
       "      <td>High</td>\n",
       "      <td>High</td>\n",
       "      <td>= 0</td>\n",
       "      <td>Low</td>\n",
       "      <td>13</td>\n",
       "      <td>Bachelors</td>\n",
       "      <td>income</td>\n",
       "      <td>26-30 &amp; 71-100</td>\n",
       "      <td>train</td>\n",
       "      <td>0</td>\n",
       "    </tr>\n",
       "  </tbody>\n",
       "</table>\n",
       "</div>"
      ],
      "text/plain": [
       "  hours_per_week_bin occupation_bin msr_bin capital_gl_bin race_sex_bin  \\\n",
       "0              31-40      Mid - Low     Mid            > 0         High   \n",
       "1               0-30           High    High            = 0         High   \n",
       "2              31-40            Low     Mid            = 0         High   \n",
       "3              31-40            Low    High            = 0          Mid   \n",
       "4              31-40           High    High            = 0          Low   \n",
       "\n",
       "  education_num_bin education_bin workclass_bin          age_bin   flag  y  \n",
       "0                13     Bachelors        income    36-40 & 56-60  train  0  \n",
       "1                13     Bachelors        income            40-55  train  0  \n",
       "2              9-12           Mid        income    36-40 & 56-60  train  0  \n",
       "3               0-8           Low        income            40-55  train  0  \n",
       "4                13     Bachelors        income   26-30 & 71-100  train  0  "
      ]
     },
     "execution_count": 111,
     "metadata": {},
     "output_type": "execute_result"
    }
   ],
   "source": [
    "#convert data to string\n",
    "df.head()\n",
    "\n",
    "df.loc[:, df.columns != 'y'] = df.loc[:, df.columns != 'y'].astype(str)\n",
    "\n",
    "#df = df.astype(str)\n",
    "\n",
    "#replace letters\n",
    "\n",
    "df.loc[:, df.columns != 'y'] = df.loc[:, df.columns != 'y'].apply(lambda x: x.str.replace('[a-z]\\.', '', regex=True))\n",
    "# Display the updated DataFrame\n",
    "print(df)\n",
    "\n",
    "df.head()"
   ]
  },
  {
   "cell_type": "code",
   "execution_count": 112,
   "metadata": {},
   "outputs": [
    {
     "name": "stdout",
     "output_type": "stream",
     "text": [
      "<class 'pandas.core.frame.DataFrame'>\n",
      "RangeIndex: 48842 entries, 0 to 48841\n",
      "Data columns (total 11 columns):\n",
      " #   Column              Non-Null Count  Dtype \n",
      "---  ------              --------------  ----- \n",
      " 0   hours_per_week_bin  48842 non-null  object\n",
      " 1   occupation_bin      48842 non-null  object\n",
      " 2   msr_bin             48842 non-null  object\n",
      " 3   capital_gl_bin      48842 non-null  object\n",
      " 4   race_sex_bin        48842 non-null  object\n",
      " 5   education_num_bin   48842 non-null  object\n",
      " 6   education_bin       48842 non-null  object\n",
      " 7   workclass_bin       48842 non-null  object\n",
      " 8   age_bin             48842 non-null  object\n",
      " 9   flag                48842 non-null  object\n",
      " 10  y                   48842 non-null  int64 \n",
      "dtypes: int64(1), object(10)\n",
      "memory usage: 4.1+ MB\n"
     ]
    }
   ],
   "source": [
    "#learn more about the dtypes in the data\n",
    "df.info()"
   ]
  },
  {
   "cell_type": "code",
   "execution_count": 113,
   "metadata": {
    "colab": {
     "base_uri": "https://localhost:8080/",
     "height": 507
    },
    "id": "R-wflHftUg6G",
    "outputId": "1f34973d-0aa6-4052-f195-e3558781810c"
   },
   "outputs": [
    {
     "name": "stdout",
     "output_type": "stream",
     "text": [
      "\n",
      "Data Quality Report\n",
      "Total records: 48842\n"
     ]
    },
    {
     "ename": "NameError",
     "evalue": "name 'data_quality_report' is not defined",
     "output_type": "error",
     "traceback": [
      "\u001b[1;31m---------------------------------------------------------------------------\u001b[0m",
      "\u001b[1;31mNameError\u001b[0m                                 Traceback (most recent call last)",
      "Input \u001b[1;32mIn [113]\u001b[0m, in \u001b[0;36m<cell line: 3>\u001b[1;34m()\u001b[0m\n\u001b[0;32m      1\u001b[0m \u001b[38;5;28mprint\u001b[39m(\u001b[38;5;124m\"\u001b[39m\u001b[38;5;130;01m\\n\u001b[39;00m\u001b[38;5;124mData Quality Report\u001b[39m\u001b[38;5;124m\"\u001b[39m)\n\u001b[0;32m      2\u001b[0m \u001b[38;5;28mprint\u001b[39m(\u001b[38;5;124m\"\u001b[39m\u001b[38;5;124mTotal records: \u001b[39m\u001b[38;5;132;01m{}\u001b[39;00m\u001b[38;5;124m\"\u001b[39m\u001b[38;5;241m.\u001b[39mformat(\u001b[38;5;28mlen\u001b[39m(df\u001b[38;5;241m.\u001b[39mindex)))\n\u001b[1;32m----> 3\u001b[0m \u001b[43mdata_quality_report\u001b[49m\n",
      "\u001b[1;31mNameError\u001b[0m: name 'data_quality_report' is not defined"
     ]
    }
   ],
   "source": [
    "print(\"\\nData Quality Report\")\n",
    "print(\"Total records: {}\".format(len(df.index)))\n",
    "data_quality_report"
   ]
  },
  {
   "cell_type": "code",
   "execution_count": 114,
   "metadata": {
    "id": "MCZF_hPilphc"
   },
   "outputs": [],
   "source": [
    "#Split the data according the the labels in the y feature\n",
    "\n",
    "train_data = df[df.flag == 'train']\n",
    "test_data = df[df.flag == 'test']"
   ]
  },
  {
   "cell_type": "code",
   "execution_count": 115,
   "metadata": {},
   "outputs": [
    {
     "data": {
      "text/html": [
       "<div>\n",
       "<style scoped>\n",
       "    .dataframe tbody tr th:only-of-type {\n",
       "        vertical-align: middle;\n",
       "    }\n",
       "\n",
       "    .dataframe tbody tr th {\n",
       "        vertical-align: top;\n",
       "    }\n",
       "\n",
       "    .dataframe thead th {\n",
       "        text-align: right;\n",
       "    }\n",
       "</style>\n",
       "<table border=\"1\" class=\"dataframe\">\n",
       "  <thead>\n",
       "    <tr style=\"text-align: right;\">\n",
       "      <th></th>\n",
       "      <th>hours_per_week_bin</th>\n",
       "      <th>occupation_bin</th>\n",
       "      <th>msr_bin</th>\n",
       "      <th>capital_gl_bin</th>\n",
       "      <th>race_sex_bin</th>\n",
       "      <th>education_num_bin</th>\n",
       "      <th>education_bin</th>\n",
       "      <th>workclass_bin</th>\n",
       "      <th>age_bin</th>\n",
       "      <th>flag</th>\n",
       "      <th>y</th>\n",
       "    </tr>\n",
       "  </thead>\n",
       "  <tbody>\n",
       "    <tr>\n",
       "      <th>0</th>\n",
       "      <td>31-40</td>\n",
       "      <td>Mid - Low</td>\n",
       "      <td>Mid</td>\n",
       "      <td>&gt; 0</td>\n",
       "      <td>High</td>\n",
       "      <td>13</td>\n",
       "      <td>Bachelors</td>\n",
       "      <td>income</td>\n",
       "      <td>36-40 &amp; 56-60</td>\n",
       "      <td>train</td>\n",
       "      <td>0</td>\n",
       "    </tr>\n",
       "    <tr>\n",
       "      <th>1</th>\n",
       "      <td>0-30</td>\n",
       "      <td>High</td>\n",
       "      <td>High</td>\n",
       "      <td>= 0</td>\n",
       "      <td>High</td>\n",
       "      <td>13</td>\n",
       "      <td>Bachelors</td>\n",
       "      <td>income</td>\n",
       "      <td>40-55</td>\n",
       "      <td>train</td>\n",
       "      <td>0</td>\n",
       "    </tr>\n",
       "    <tr>\n",
       "      <th>2</th>\n",
       "      <td>31-40</td>\n",
       "      <td>Low</td>\n",
       "      <td>Mid</td>\n",
       "      <td>= 0</td>\n",
       "      <td>High</td>\n",
       "      <td>9-12</td>\n",
       "      <td>Mid</td>\n",
       "      <td>income</td>\n",
       "      <td>36-40 &amp; 56-60</td>\n",
       "      <td>train</td>\n",
       "      <td>0</td>\n",
       "    </tr>\n",
       "    <tr>\n",
       "      <th>3</th>\n",
       "      <td>31-40</td>\n",
       "      <td>Low</td>\n",
       "      <td>High</td>\n",
       "      <td>= 0</td>\n",
       "      <td>Mid</td>\n",
       "      <td>0-8</td>\n",
       "      <td>Low</td>\n",
       "      <td>income</td>\n",
       "      <td>40-55</td>\n",
       "      <td>train</td>\n",
       "      <td>0</td>\n",
       "    </tr>\n",
       "    <tr>\n",
       "      <th>4</th>\n",
       "      <td>31-40</td>\n",
       "      <td>High</td>\n",
       "      <td>High</td>\n",
       "      <td>= 0</td>\n",
       "      <td>Low</td>\n",
       "      <td>13</td>\n",
       "      <td>Bachelors</td>\n",
       "      <td>income</td>\n",
       "      <td>26-30 &amp; 71-100</td>\n",
       "      <td>train</td>\n",
       "      <td>0</td>\n",
       "    </tr>\n",
       "  </tbody>\n",
       "</table>\n",
       "</div>"
      ],
      "text/plain": [
       "  hours_per_week_bin occupation_bin msr_bin capital_gl_bin race_sex_bin  \\\n",
       "0              31-40      Mid - Low     Mid            > 0         High   \n",
       "1               0-30           High    High            = 0         High   \n",
       "2              31-40            Low     Mid            = 0         High   \n",
       "3              31-40            Low    High            = 0          Mid   \n",
       "4              31-40           High    High            = 0          Low   \n",
       "\n",
       "  education_num_bin education_bin workclass_bin          age_bin   flag  y  \n",
       "0                13     Bachelors        income    36-40 & 56-60  train  0  \n",
       "1                13     Bachelors        income            40-55  train  0  \n",
       "2              9-12           Mid        income    36-40 & 56-60  train  0  \n",
       "3               0-8           Low        income            40-55  train  0  \n",
       "4                13     Bachelors        income   26-30 & 71-100  train  0  "
      ]
     },
     "execution_count": 115,
     "metadata": {},
     "output_type": "execute_result"
    }
   ],
   "source": [
    "df.head()"
   ]
  },
  {
   "cell_type": "code",
   "execution_count": 116,
   "metadata": {
    "id": "5xNVOWQkl_om"
   },
   "outputs": [],
   "source": [
    "#Store the categorical features into a variable \n",
    "categorical_feat = ['age_bin','capital_gl_bin','education_bin',\n",
    "                    'hours_per_week_bin','msr_bin','occupation_bin','race_sex_bin']"
   ]
  },
  {
   "cell_type": "code",
   "execution_count": 117,
   "metadata": {},
   "outputs": [],
   "source": [
    "#Split the train and test data \n",
    "train = df[df['flag']=='train']\n",
    "test = df[df['flag']=='test']\n",
    "\n",
    "#Use these catetgorical features in the model\n",
    "cat_feats = ['age_bin','capital_gl_bin','education_bin','hours_per_week_bin','msr_bin','occupation_bin','race_sex_bin']\n",
    "\n",
    "#Extract the target variable / dependent variable, y\n",
    "#Extract the independent variable, x for the trianing and test data \n",
    "\n",
    "y_train = train['y']\n",
    "x_train = train[['age_bin','capital_gl_bin','education_bin','hours_per_week_bin','msr_bin','occupation_bin','race_sex_bin']]\n",
    "x_train = pd.get_dummies(x_train,columns=cat_feats,drop_first=True)\n",
    "\n",
    "#Convert the categorical variables into binary variables (vars that can only take two values, true or false or 0 and 1)\n",
    "#drop_first indicates that one of the binary variables for each cateogry will be \n",
    "#dropped to avoid multicolllinearity\n",
    "\n",
    "y_test = test['y']\n",
    "x_test = test[['age_bin','capital_gl_bin','education_bin','hours_per_week_bin','msr_bin','occupation_bin','race_sex_bin']]\n",
    "x_test = pd.get_dummies(x_test,columns=cat_feats,drop_first=True)"
   ]
  },
  {
   "cell_type": "code",
   "execution_count": 118,
   "metadata": {},
   "outputs": [
    {
     "name": "stdout",
     "output_type": "stream",
     "text": [
      "   n_estimator  accuracy    recall  precision  f1 score\n",
      "0            2  0.790799  0.826859   0.835391  0.828667\n",
      "1            4  0.803329  0.826859   0.835391  0.828667\n",
      "2            6  0.834715  0.826859   0.835391  0.828667\n",
      "3            8  0.836681  0.826859   0.835391  0.828667\n",
      "4           10  0.837786  0.826859   0.835391  0.828667\n",
      "5           12  0.838278  0.826859   0.835391  0.828667\n",
      "6           14  0.837786  0.826859   0.835391  0.828667\n",
      "7           16  0.834838  0.826859   0.835391  0.828667\n",
      "8           18  0.835268  0.826859   0.835391  0.828667\n",
      "9           20  0.835882  0.826859   0.835391  0.828667\n"
     ]
    },
    {
     "data": {
      "image/png": "[encoded data removed]",
      "text/plain": [
       "<Figure size 576x288 with 1 Axes>"
      ]
     },
     "metadata": {},
     "output_type": "display_data"
    }
   ],
   "source": [
    "results = []\n",
    "metrics = {'n_estimator':[],'accuracy': [], 'recall': [], 'precision': [], 'f1 score': []}\n",
    "\n",
    "max_depth_options = [2,4,6,8,10,12,14,16,18,20]\n",
    "for trees in max_depth_options:\n",
    "    model = DecisionTreeClassifier(max_depth= trees, random_state =101)\n",
    "    model.fit(x_train, y_train)\n",
    "    y_pred=model.predict(x_test)\n",
    "    accuracy = np.mean(y_test ==y_pred)\n",
    "    results.append(accuracy)\n",
    "    metrics['n_estimator'].append(trees)\n",
    "    metrics['accuracy'].append(accuracy)\n",
    "    metrics['recall'].append(recall)\n",
    "    metrics['precision'].append(precision)\n",
    "    metrics['f1 score'].append(f1_score)\n",
    "    \n",
    "plt.figure(figsize = (8,4))\n",
    "pd.Series(results, max_depth_options).plot(color='darkred', marker = 'o')\n",
    "random_forest_table = pd.DataFrame(metrics)\n",
    "print(random_forest_table)"
   ]
  },
  {
   "cell_type": "markdown",
   "metadata": {},
   "source": [
    "# 3. Building a Random Forest Model\n",
    "    1. Write your observations about the Classifier’s behavior with respect to the number\n",
    "    of estimators\n",
    "    Accuracy fluncuates when different n_estimators are tested. It reaches its second highest peak at the first n_estimator, 50 and drastically declines until 250 , where it gradually increases and reaches its highest peak at 500. Meaning that this is the most optimal hyperameter for this algorithim.  \n",
    "    \n",
    "    2. Is there an optimal value of the estimator within the given range?\n",
    "    The optimal n_estimator \n",
    "    \n",
    "    The most optimal n_estimator is 500, as that is where accuracy pepaks. Accuracy, recall, precision and f1 score performed quite similarly (.84<.83). However, the classifier performed best in terms of accuracy (0.839015) and precision (0.835391)."
   ]
  },
  {
   "cell_type": "code",
   "execution_count": 119,
   "metadata": {},
   "outputs": [],
   "source": [
    "#import features to help evaluate and visualize AUC\n",
    "from sklearn.metrics import roc_auc_score\n",
    "from sklearn.metrics import plot_roc_curve"
   ]
  },
  {
   "cell_type": "markdown",
   "metadata": {},
   "source": [
    "Randomforest"
   ]
  },
  {
   "cell_type": "code",
   "execution_count": 120,
   "metadata": {},
   "outputs": [
    {
     "name": "stdout",
     "output_type": "stream",
     "text": [
      "   n_estimator  accuracy    recall  precision  f1 score\n",
      "0           50  0.838953  0.826859   0.835391  0.828667\n",
      "1          100  0.838462  0.826859   0.835391  0.828667\n",
      "2          150  0.838339  0.826859   0.835391  0.828667\n",
      "3          200  0.837725  0.826859   0.835391  0.828667\n",
      "4          250  0.837786  0.826859   0.835391  0.828667\n",
      "5          300  0.838646  0.826859   0.835391  0.828667\n",
      "6          350  0.838462  0.826859   0.835391  0.828667\n",
      "7          400  0.838769  0.826859   0.835391  0.828667\n",
      "8          450  0.838831  0.826859   0.835391  0.828667\n",
      "9          500  0.839015  0.826859   0.835391  0.828667\n"
     ]
    },
    {
     "data": {
      "image/png": "[encoded data removed]",
      "text/plain": [
       "<Figure size 576x288 with 1 Axes>"
      ]
     },
     "metadata": {},
     "output_type": "display_data"
    }
   ],
   "source": [
    "#import random forest classifier\n",
    "from sklearn.ensemble import RandomForestClassifier\n",
    "\n",
    "#create a dictionary where values can be stored during each iteration of the for loop \n",
    "metrics = {'n_estimator':[],'accuracy': [], 'recall': [], 'precision': [], 'f1 score': []}\n",
    "\n",
    "#use the for loop to trian the model and store values to the dictionary \n",
    "results = []\n",
    "n_estimator = [50,100,150,200,250,300,350,400,450,500]\n",
    "for trees in n_estimator:\n",
    "    model = RandomForestClassifier(n_estimators=trees,random_state=101)\n",
    "    model.fit(x_train, y_train)\n",
    "    y_pred = model.predict(x_test)\n",
    "    accuracy = np.mean(y_test == y_pred)\n",
    "    results.append(accuracy)\n",
    "    metrics['n_estimator'].append(trees)\n",
    "    metrics['accuracy'].append(accuracy)\n",
    "    metrics['recall'].append(recall)\n",
    "    metrics['precision'].append(precision)\n",
    "    metrics['f1 score'].append(f1_score)\n",
    "    \n",
    "#plot Accuracy vs. n_estimator, the hyperameter to see which hyperamter value yeilds the best accuracy results\n",
    "plt.figure(figsize = (8,4))\n",
    "pd.Series(results, n_estimator).plot(color='darkred', marker = 'o').set(xlabel = 'n_estimator', ylabel = 'Accuracy', title = 'Accuracy vs. n_estimator')\n",
    "\n",
    "#use a table to help determine which n_estimator value is the best \n",
    "random_forest_table = pd.DataFrame(metrics)\n",
    "print(random_forest_table)"
   ]
  },
  {
   "cell_type": "code",
   "execution_count": 122,
   "metadata": {},
   "outputs": [
    {
     "name": "stdout",
     "output_type": "stream",
     "text": [
      "   n_estimator  train_auc  test_auc\n",
      "0           50   0.786143  0.749012\n",
      "1          100   0.783879  0.746984\n",
      "2          150   0.784358  0.747173\n",
      "3          200   0.784358  0.746592\n",
      "4          250   0.782834  0.745195\n",
      "5          300   0.783835  0.746926\n",
      "6          350   0.785141  0.748242\n",
      "7          400   0.783313  0.747455\n",
      "8          450   0.783269  0.747405\n",
      "9          500   0.783182  0.747167\n"
     ]
    },
    {
     "data": {
      "image/png": "[encoded data removed]",
      "text/plain": [
       "<Figure size 432x288 with 1 Axes>"
      ]
     },
     "metadata": {},
     "output_type": "display_data"
    }
   ],
   "source": [
    "#graph auc vs n_estimator (random forest)\n",
    "\n",
    "# Generate the false positive rate, true positive rate, and thresholds for ROC\n",
    "from sklearn.metrics import roc_curve, auc\n",
    "false_positive_rate, true_positive_rate, thresholds = roc_curve(y_test, y_pred)\n",
    "roc_auc = auc(false_positive_rate, true_positive_rate)\n",
    "\n",
    "#set hyperamter values to be tested \n",
    "n_estimators = [50,100,150,200,250,300,350,400,450,500]\n",
    "train_results = []\n",
    "test_results = []\n",
    "\n",
    "\n",
    "#store results from the for loop into a dictionary\n",
    "auc_scores = {'n_estimator': [], 'train_auc': [], 'test_auc': []}\n",
    "\n",
    "\n",
    "#use a for loop to iterate through each n_estimator value and train and test the data against the model to calculate the auc  \n",
    "for trees in n_estimators:\n",
    "   model = RandomForestClassifier(n_estimators = trees, random_state = 101)\n",
    "   model.fit(x_train, y_train)\n",
    "   train_pred = model.predict(x_train)\n",
    "   false_positive_rate, true_positive_rate, thresholds = roc_curve(y_train, train_pred)\n",
    "   train_roc_auc = auc(false_positive_rate, true_positive_rate)\n",
    "   # Add auc score to previous train results\n",
    "   train_results.append(train_roc_auc)\n",
    "   y_pred = model.predict(x_test)\n",
    "   false_positive_rate, true_positive_rate, thresholds = roc_curve(y_test, y_pred)\n",
    "   test_roc_auc = auc(false_positive_rate, true_positive_rate)\n",
    "   # Add auc score to previous test results\n",
    "   test_results.append(test_roc_auc)\n",
    "\n",
    "# Append the n_estimator value and corresponding AUC scores to the dictionary\n",
    "   auc_scores['n_estimator'].append(trees)\n",
    "   auc_scores['train_auc'].append(train_roc_auc)\n",
    "   auc_scores['test_auc'].append(test_roc_auc)\n",
    "\n",
    "#use a table to help determine which n_estimator value is the best \n",
    "rf_table_auc = pd.DataFrame(auc_scores)\n",
    "print(rf_table_auc)\n",
    "\n",
    "\n",
    "#plot auc against train and test results \n",
    "from matplotlib.legend_handler import HandlerLine2D\n",
    "line1, = plt.plot(n_estimator, train_results, 'b', label= 'Train AUC')\n",
    "line2, = plt.plot(n_estimator, test_results, 'r', label= 'Test AUC')\n",
    "plt.legend(handler_map={line1: HandlerLine2D(numpoints=2)})\n",
    "plt.ylabel('AUC score')\n",
    "plt.xlabel('n_estimator')\n",
    "plt.title('AUC vs. n_estimator')\n",
    "plt.show()"
   ]
  },
  {
   "cell_type": "markdown",
   "metadata": {},
   "source": [
    "# 4. Building AdaBoost, Gradient Boost, and XGB."
   ]
  },
  {
   "cell_type": "markdown",
   "metadata": {},
   "source": [
    "Adaboost"
   ]
  },
  {
   "cell_type": "code",
   "execution_count": 123,
   "metadata": {},
   "outputs": [
    {
     "name": "stdout",
     "output_type": "stream",
     "text": [
      "   n_estimator  accuracy    recall  precision  f1 score\n",
      "0           50  0.843499  0.826859   0.835391  0.828667\n",
      "1          100  0.845218  0.826859   0.835391  0.828667\n",
      "2          150  0.845034  0.826859   0.835391  0.828667\n",
      "3          200  0.844973  0.826859   0.835391  0.828667\n",
      "4          250  0.844850  0.826859   0.835391  0.828667\n",
      "5          300  0.845096  0.826859   0.835391  0.828667\n",
      "6          350  0.845157  0.826859   0.835391  0.828667\n",
      "7          400  0.845157  0.826859   0.835391  0.828667\n",
      "8          450  0.845157  0.826859   0.835391  0.828667\n",
      "9          500  0.845157  0.826859   0.835391  0.828667\n"
     ]
    },
    {
     "data": {
      "image/png": "[encoded data removed]",
      "text/plain": [
       "<Figure size 576x288 with 1 Axes>"
      ]
     },
     "metadata": {},
     "output_type": "display_data"
    }
   ],
   "source": [
    "#fit the data to the adaboost model\n",
    "from sklearn.ensemble import AdaBoostClassifier\n",
    "\n",
    "#create a dictionary where values can be stored during each iteration of the for loop \n",
    "metrics = {'n_estimator':[],'accuracy': [], 'recall': [], 'precision': [], 'f1 score': []}\n",
    "\n",
    "#use an empty list to store the results of every run with each n_estimator value\n",
    "results = []\n",
    "n_estimator = [50,100,150,200,250,300,350,400,450,500]\n",
    "\n",
    "#use a for loop to iterate through each n_estimator value and train and test the data against the mdoel \n",
    "for trees in n_estimator:\n",
    "    model = AdaBoostClassifier(n_estimators=trees,random_state=101)\n",
    "    model.fit(x_train, y_train)\n",
    "    y_pred = model.predict(x_test)\n",
    "    accuracy = np.mean(y_test == y_pred)\n",
    "    results.append(accuracy)\n",
    "    metrics['n_estimator'].append(trees)\n",
    "    metrics['accuracy'].append(accuracy)\n",
    "    metrics['recall'].append(recall)\n",
    "    metrics['precision'].append(precision)\n",
    "    metrics['f1 score'].append(f1_score)\n",
    "    \n",
    "#plot Accuracy vs. n_estimator, the hyperameter to see which hyperamter yeilds the best accuracy results\n",
    "plt.figure(figsize = (8,4))\n",
    "pd.Series(results, n_estimator).plot(color='darkred', marker = 'o').set(xlabel = 'n_estimator', ylabel = 'Accuracy', title = 'Accuracy vs. n_estimator')\n",
    "\n",
    "#use a table to help determine which n_estimator value is the best \n",
    "adaboost_table = pd.DataFrame(metrics)\n",
    "print(adaboost_table)"
   ]
  },
  {
   "cell_type": "code",
   "execution_count": 125,
   "metadata": {},
   "outputs": [
    {
     "name": "stdout",
     "output_type": "stream",
     "text": [
      "   n_estimator  train_auc  test_auc\n",
      "0           50   0.741405  0.740404\n",
      "1          100   0.739517  0.741171\n",
      "2          150   0.746504  0.746617\n",
      "3          200   0.746437  0.746398\n",
      "4          250   0.746501  0.746407\n",
      "5          300   0.746391  0.746388\n",
      "6          350   0.746200  0.746518\n",
      "7          400   0.746200  0.746518\n",
      "8          450   0.746200  0.746518\n",
      "9          500   0.746200  0.746518\n"
     ]
    },
    {
     "data": {
      "image/png": "[encoded data removed]",
      "text/plain": [
       "<Figure size 432x288 with 1 Axes>"
      ]
     },
     "metadata": {},
     "output_type": "display_data"
    }
   ],
   "source": [
    "#graph auc vs n_estimator (adaboost)\n",
    "\n",
    "# Generate the false positive rate, true positive rate, and thresholds for ROC\n",
    "from sklearn.metrics import roc_curve, auc\n",
    "false_positive_rate, true_positive_rate, thresholds = roc_curve(y_test, y_pred)\n",
    "roc_auc = auc(false_positive_rate, true_positive_rate)\n",
    "\n",
    "#set hyperamter values to be tested \n",
    "n_estimators = [50,100,150,200,250,300,350,400,450,500]\n",
    "train_results = []\n",
    "test_results = []\n",
    "\n",
    "#create an empty dictionary where values can be stored from the for loop and later inputted into a table\n",
    "auc_scores = {'n_estimator': [], 'train_auc': [], 'test_auc': []}\n",
    "\n",
    "\n",
    "#use a for loop to iterate through each n_estimator value and train and test the data against the model to calculate the auc  \n",
    "for trees in n_estimators:\n",
    "   model = AdaBoostClassifier(n_estimators = trees, random_state = 101)\n",
    "   model.fit(x_train, y_train)\n",
    "   train_pred = model.predict(x_train)\n",
    "   false_positive_rate, true_positive_rate, thresholds = roc_curve(y_train, train_pred)\n",
    "   train_roc_auc = auc(false_positive_rate, true_positive_rate)\n",
    "   # Add auc score to previous train results\n",
    "   train_results.append(train_roc_auc)\n",
    "   y_pred = model.predict(x_test)\n",
    "   false_positive_rate, true_positive_rate, thresholds = roc_curve(y_test, y_pred)\n",
    "   test_roc_auc = auc(false_positive_rate, true_positive_rate)\n",
    "   # Add auc score to previous test results\n",
    "   test_results.append(test_roc_auc)\n",
    "\n",
    "# Append the n_estimator value and corresponding AUC scores to the dictionary\n",
    "   auc_scores['n_estimator'].append(trees)\n",
    "   auc_scores['train_auc'].append(train_roc_auc)\n",
    "   auc_scores['test_auc'].append(test_roc_auc)\n",
    "\n",
    "#use a table to help determine which n_estimator value is the best \n",
    "rf_table_auc = pd.DataFrame(auc_scores)\n",
    "print(rf_table_auc)\n",
    "\n",
    "#plot auc vs n_estimator for training and test data\n",
    "from matplotlib.legend_handler import HandlerLine2D\n",
    "line1, = plt.plot(n_estimator, train_results, 'b', label= 'Train AUC')\n",
    "line2, = plt.plot(n_estimator, test_results, 'r', label= 'Test AUC')\n",
    "plt.legend(handler_map={line1: HandlerLine2D(numpoints=2)})\n",
    "plt.ylabel('AUC score')\n",
    "plt.xlabel('n_estimator')\n",
    "plt.title('AUC vs. n_estimator')\n",
    "plt.show()"
   ]
  },
  {
   "cell_type": "markdown",
   "metadata": {},
   "source": [
    "Gradient Boost"
   ]
  },
  {
   "cell_type": "code",
   "execution_count": 126,
   "metadata": {},
   "outputs": [
    {
     "name": "stdout",
     "output_type": "stream",
     "text": [
      "   n_estimator  accuracy    recall  precision  f1 score\n",
      "0           50  0.842762  0.826859   0.835391  0.828667\n",
      "1          100  0.845710  0.826859   0.835391  0.828667\n",
      "2          150  0.845771  0.826859   0.835391  0.828667\n",
      "3          200  0.846508  0.826859   0.835391  0.828667\n",
      "4          250  0.846140  0.826859   0.835391  0.828667\n",
      "5          300  0.845955  0.826859   0.835391  0.828667\n",
      "6          350  0.845955  0.826859   0.835391  0.828667\n",
      "7          400  0.845710  0.826859   0.835391  0.828667\n",
      "8          450  0.845833  0.826859   0.835391  0.828667\n",
      "9          500  0.846140  0.826859   0.835391  0.828667\n"
     ]
    },
    {
     "data": {
      "image/png": "[encoded data removed]",
      "text/plain": [
       "<Figure size 576x288 with 1 Axes>"
      ]
     },
     "metadata": {},
     "output_type": "display_data"
    }
   ],
   "source": [
    "#fit the data to the gradient boosting model\n",
    "from sklearn.ensemble import GradientBoostingClassifier\n",
    "\n",
    "#create a dictionary where values can be stored during each iteration of the for loop \n",
    "metrics = {'n_estimator':[],'accuracy': [], 'recall': [], 'precision': [], 'f1 score': []}\n",
    "results = []\n",
    "n_estimator = [50,100,150,200,250,300,350,400,450,500]\n",
    "\n",
    "#use a for loop to iterate through each n_estimator value and train and test the data against the mdoel \n",
    "for trees in n_estimator:\n",
    "    model = GradientBoostingClassifier(n_estimators=trees,random_state=101)\n",
    "    model.fit(x_train, y_train)\n",
    "    y_pred = model.predict(x_test)\n",
    "    accuracy = np.mean(y_test == y_pred)\n",
    "    results.append(accuracy)\n",
    "    metrics['n_estimator'].append(trees)\n",
    "    metrics['accuracy'].append(accuracy)\n",
    "    metrics['recall'].append(recall)\n",
    "    metrics['precision'].append(precision)\n",
    "    metrics['f1 score'].append(f1_score)\n",
    "    \n",
    "#plot Accuracy vs. n_estimator, the hyperameter to see which hyperamter yeilds the best accuracy results\n",
    "plt.figure(figsize = (8,4))\n",
    "pd.Series(results, n_estimator).plot(color='darkred', marker = 'o').set(xlabel = 'n_estimator', ylabel = 'Accuracy', title = 'Accuracy vs. n_estimator')\n",
    "\n",
    "#use a table to help determine which n_estimator value is the best \n",
    "gradient_boosting_table = pd.DataFrame(metrics)\n",
    "print(gradient_boosting_table)"
   ]
  },
  {
   "cell_type": "code",
   "execution_count": 128,
   "metadata": {},
   "outputs": [
    {
     "name": "stdout",
     "output_type": "stream",
     "text": [
      "   n_estimator  train_auc  test_auc\n",
      "0           50   0.725198  0.724117\n",
      "1          100   0.749924  0.748856\n",
      "2          150   0.753764  0.751051\n",
      "3          200   0.757601  0.756203\n",
      "4          250   0.759671  0.756321\n",
      "5          300   0.761168  0.757817\n",
      "6          350   0.761748  0.758266\n",
      "7          400   0.762192  0.757745\n",
      "8          450   0.761890  0.757826\n",
      "9          500   0.762185  0.758027\n"
     ]
    },
    {
     "data": {
      "image/png": "[encoded data removed]",
      "text/plain": [
       "<Figure size 432x288 with 1 Axes>"
      ]
     },
     "metadata": {},
     "output_type": "display_data"
    }
   ],
   "source": [
    "#graph auc vs n_estimator (gradient)\n",
    "\n",
    "# Generate the false positive rate, true positive rate, and thresholds for ROC\n",
    "from sklearn.metrics import roc_curve, auc\n",
    "false_positive_rate, true_positive_rate, thresholds = roc_curve(y_test, y_pred)\n",
    "roc_auc = auc(false_positive_rate, true_positive_rate)\n",
    "\n",
    "#set hyperamter values to be tested \n",
    "n_estimators = [50,100,150,200,250,300,350,400,450,500]\n",
    "train_results = []\n",
    "test_results = []\n",
    "\n",
    "#create an empty dictionary where values can be stored from the for loop and later inputted into a table\n",
    "auc_scores = {'n_estimator': [], 'train_auc': [], 'test_auc': []}\n",
    "\n",
    "#use a for loop to iterate through each n_estimator value and train and test the data against the model to calculate the auc  \n",
    "for trees in n_estimators:\n",
    "   model = GradientBoostingClassifier(n_estimators = trees, random_state = 101)\n",
    "   model.fit(x_train, y_train)\n",
    "   train_pred = model.predict(x_train)\n",
    "   false_positive_rate, true_positive_rate, thresholds = roc_curve(y_train, train_pred)\n",
    "   train_roc_auc = auc(false_positive_rate, true_positive_rate)\n",
    "   # Add auc score to previous train results\n",
    "   train_results.append(train_roc_auc)\n",
    "   y_pred = model.predict(x_test)\n",
    "   false_positive_rate, true_positive_rate, thresholds = roc_curve(y_test, y_pred)\n",
    "   test_roc_auc = auc(false_positive_rate, true_positive_rate)\n",
    "   # Add auc score to previous test results\n",
    "   test_results.append(test_roc_auc)\n",
    "    \n",
    "#Append the n_estimator value and corresponding AUC scores to the dictionary\n",
    "   auc_scores['n_estimator'].append(trees)\n",
    "   auc_scores['train_auc'].append(train_roc_auc)\n",
    "   auc_scores['test_auc'].append(test_roc_auc)\n",
    "\n",
    "#use a table to help determine which n_estimator value is the best \n",
    "rf_table_auc = pd.DataFrame(auc_scores)\n",
    "print(rf_table_auc)\n",
    "\n",
    "#plot auc vs n_estimator for training and test data\n",
    "line1, = plt.plot(n_estimator, train_results, 'b', label= 'Train AUC')\n",
    "line2, = plt.plot(n_estimator, test_results, 'r', label= 'Test AUC')\n",
    "plt.legend(handler_map={line1: HandlerLine2D(numpoints=2)})\n",
    "plt.ylabel('AUC score')\n",
    "plt.xlabel('n_estimator')\n",
    "plt.title('AUC vs. n_estimator')\n",
    "plt.show()"
   ]
  },
  {
   "cell_type": "code",
   "execution_count": 131,
   "metadata": {},
   "outputs": [
    {
     "name": "stdout",
     "output_type": "stream",
     "text": [
      "Requirement already satisfied: xgboost in c:\\users\\jadal\\anaconda3\\lib\\site-packages (1.7.4)\n",
      "Requirement already satisfied: numpy in c:\\users\\jadal\\anaconda3\\lib\\site-packages (from xgboost) (1.21.5)\n",
      "Requirement already satisfied: scipy in c:\\users\\jadal\\anaconda3\\lib\\site-packages (from xgboost) (1.7.3)\n"
     ]
    },
    {
     "name": "stderr",
     "output_type": "stream",
     "text": [
      "\n",
      "[notice] A new release of pip is available: 23.0 -> 23.0.1\n",
      "[notice] To update, run: python.exe -m pip install --upgrade pip\n"
     ]
    }
   ],
   "source": [
    "#install xgboost in order to use the xgboost model \n",
    "!pip install xgboost"
   ]
  },
  {
   "cell_type": "code",
   "execution_count": 132,
   "metadata": {},
   "outputs": [
    {
     "name": "stdout",
     "output_type": "stream",
     "text": [
      "   n_estimator  accuracy    recall  precision  f1 score\n",
      "0           50  0.844788  0.826859   0.835391  0.828667\n",
      "1          100  0.844604  0.826859   0.835391  0.828667\n",
      "2          150  0.844051  0.826859   0.835391  0.828667\n",
      "3          200  0.843437  0.826859   0.835391  0.828667\n",
      "4          250  0.842762  0.826859   0.835391  0.828667\n",
      "5          300  0.842700  0.826859   0.835391  0.828667\n",
      "6          350  0.841840  0.826859   0.835391  0.828667\n",
      "7          400  0.841717  0.826859   0.835391  0.828667\n",
      "8          450  0.840182  0.826859   0.835391  0.828667\n",
      "9          500  0.840120  0.826859   0.835391  0.828667\n"
     ]
    },
    {
     "data": {
      "image/png": "[encoded data removed]",
      "text/plain": [
       "<Figure size 576x288 with 1 Axes>"
      ]
     },
     "metadata": {},
     "output_type": "display_data"
    }
   ],
   "source": [
    "#fit the data to the xgboost model \n",
    "import xgboost as xgb\n",
    "\n",
    "#create a dictionary where values can be stored during each iteration of the for loop \n",
    "metrics = {'n_estimator':[],'accuracy': [], 'recall': [], 'precision': [], 'f1 score': []}\n",
    "results = []\n",
    "n_estimator = [50,100,150,200,250,300,350,400,450,500]\n",
    "\n",
    "#use a for loop to iterate through each n_estimator value and train and test the data against the mdoel \n",
    "for trees in n_estimator:\n",
    "    model = xgb.XGBClassifier(n_estimators=trees,random_state=101)\n",
    "    model.fit(x_train, y_train)\n",
    "    y_pred = model.predict(x_test)\n",
    "    accuracy = np.mean(y_test == y_pred)\n",
    "    results.append(accuracy)\n",
    "    metrics['n_estimator'].append(trees)\n",
    "    metrics['accuracy'].append(accuracy)\n",
    "    metrics['recall'].append(recall)\n",
    "    metrics['precision'].append(precision)\n",
    "    metrics['f1 score'].append(f1_score)\n",
    "    \n",
    "#plot Accuracy vs. n_estimator, the hyperameter to see which hyperamter yeilds the best accuracy results\n",
    "plt.figure(figsize = (8,4))\n",
    "pd.Series(results, n_estimator).plot(color='darkred', marker = 'o').set(xlabel = 'n_estimator', ylabel = 'Accuracy', title = 'Accuracy vs. n_estimator')\n",
    "\n",
    "#use a table to help determine which n_estimator value is the best \n",
    "xgb_boost_table = pd.DataFrame(metrics)\n",
    "print(xgb_boost_table)"
   ]
  },
  {
   "cell_type": "code",
   "execution_count": 133,
   "metadata": {},
   "outputs": [
    {
     "name": "stdout",
     "output_type": "stream",
     "text": [
      "   n_estimator  train_auc  test_auc\n",
      "0           50   0.769419  0.756155\n",
      "1          100   0.773997  0.757381\n",
      "2          150   0.776753  0.757019\n",
      "3          200   0.778121  0.757246\n",
      "4          250   0.779066  0.756893\n",
      "5          300   0.780103  0.756404\n",
      "6          350   0.779142  0.753147\n",
      "7          400   0.779147  0.753336\n",
      "8          450   0.781427  0.752061\n",
      "9          500   0.781830  0.752111\n"
     ]
    },
    {
     "data": {
      "image/png": "[encoded data removed]",
      "text/plain": [
       "<Figure size 432x288 with 1 Axes>"
      ]
     },
     "metadata": {},
     "output_type": "display_data"
    }
   ],
   "source": [
    "#graph auc vs n_estimator (xgboost)\n",
    "\n",
    "# Generate the false positive rate, true positive rate, and thresholds for ROC\n",
    "from sklearn.metrics import roc_curve, auc\n",
    "false_positive_rate, true_positive_rate, thresholds = roc_curve(y_test, y_pred)\n",
    "roc_auc = auc(false_positive_rate, true_positive_rate)\n",
    "\n",
    "#set hyperamter values to be tested \n",
    "n_estimators = [50,100,150,200,250,300,350,400,450,500]\n",
    "train_results = []\n",
    "test_results = []\n",
    "\n",
    "#create an empty dictionary where values can be stored from the for loop and later inputted into a table\n",
    "auc_scores = {'n_estimator': [], 'train_auc': [], 'test_auc': []}\n",
    "\n",
    "#use a for loop to iterate through each n_estimator value and train and test the data against the model to calculate the auc  \n",
    "for trees in n_estimators:\n",
    "   model = xgb.XGBClassifier(n_estimators = trees, random_state = 101)\n",
    "   model.fit(x_train, y_train)\n",
    "   train_pred = model.predict(x_train)\n",
    "   false_positive_rate, true_positive_rate, thresholds = roc_curve(y_train, train_pred)\n",
    "   train_roc_auc = auc(false_positive_rate, true_positive_rate)\n",
    "   # Add auc score to previous train results\n",
    "   train_results.append(train_roc_auc)\n",
    "   y_pred = model.predict(x_test)\n",
    "   false_positive_rate, true_positive_rate, thresholds = roc_curve(y_test, y_pred)\n",
    "   test_roc_auc = auc(false_positive_rate, true_positive_rate)\n",
    "   # Add auc score to previous test results\n",
    "   test_results.append(test_roc_auc)\n",
    "\n",
    "# Append the n_estimator value and corresponding AUC scores to the dictionary\n",
    "   auc_scores['n_estimator'].append(trees)\n",
    "   auc_scores['train_auc'].append(train_roc_auc)\n",
    "   auc_scores['test_auc'].append(test_roc_auc)\n",
    "\n",
    "#use a table to help determine which n_estimator value is the best \n",
    "rf_table_auc = pd.DataFrame(auc_scores)\n",
    "print(rf_table_auc)\n",
    "\n",
    "#plot auc scores against the n_estimator \n",
    "line1, = plt.plot(n_estimator, train_results, 'b', label= 'Train AUC')\n",
    "line2, = plt.plot(n_estimator, test_results, 'r', label= 'Test AUC')\n",
    "plt.legend(handler_map={line1: HandlerLine2D(numpoints=2)})\n",
    "plt.ylabel('AUC score')\n",
    "plt.xlabel('n_estimator')\n",
    "plt.title('AUC vs. n_estimator')\n",
    "plt.show()"
   ]
  },
  {
   "cell_type": "code",
   "execution_count": 134,
   "metadata": {},
   "outputs": [
    {
     "name": "stdout",
     "output_type": "stream",
     "text": [
      "   n_estimator  train_auc  test_auc\n",
      "0           50   0.725198  0.724117\n",
      "1          100   0.749924  0.748856\n",
      "2          150   0.753764  0.751051\n",
      "3          200   0.757601  0.756203\n",
      "4          250   0.759671  0.756321\n",
      "5          300   0.761168  0.757817\n",
      "6          350   0.761748  0.758266\n",
      "7          400   0.762192  0.757745\n",
      "8          450   0.761890  0.757826\n",
      "9          500   0.762185  0.758027\n"
     ]
    },
    {
     "data": {
      "image/png": "[encoded data removed]",
      "text/plain": [
       "<Figure size 432x288 with 1 Axes>"
      ]
     },
     "metadata": {},
     "output_type": "display_data"
    }
   ],
   "source": [
    "#graph auc vs n_estimator (gradient)\n",
    "\n",
    "# Generate the false positive rate, true positive rate, and thresholds for ROC\n",
    "from sklearn.metrics import roc_curve, auc\n",
    "false_positive_rate, true_positive_rate, thresholds = roc_curve(y_test, y_pred)\n",
    "roc_auc = auc(false_positive_rate, true_positive_rate)\n",
    "\n",
    "#set hyperamter values to be tested \n",
    "n_estimators = [50,100,150,200,250,300,350,400,450,500]\n",
    "train_results = []\n",
    "test_results = []\n",
    "\n",
    "#create an empty dictionary where values can be stored from the for loop and later inputted into a table\n",
    "auc_scores = {'n_estimator': [], 'train_auc': [], 'test_auc': []}\n",
    "\n",
    "#use a for loop to iterate through each n_estimator value and train and test the data against the model to calculate the auc  \n",
    "for trees in n_estimators:\n",
    "   model = GradientBoostingClassifier(n_estimators = trees, random_state = 101)\n",
    "   model.fit(x_train, y_train)\n",
    "   train_pred = model.predict(x_train)\n",
    "   false_positive_rate, true_positive_rate, thresholds = roc_curve(y_train, train_pred)\n",
    "   train_roc_auc = auc(false_positive_rate, true_positive_rate)\n",
    "   # Add auc score to previous train results\n",
    "   train_results.append(train_roc_auc)\n",
    "   y_pred = model.predict(x_test)\n",
    "   false_positive_rate, true_positive_rate, thresholds = roc_curve(y_test, y_pred)\n",
    "   test_roc_auc = auc(false_positive_rate, true_positive_rate)\n",
    "   #Add auc score to previous test results\n",
    "   test_results.append(test_roc_auc)\n",
    "\n",
    "    #Append the n_estimator value and corresponding AUC scores to the dictionary\n",
    "   auc_scores['n_estimator'].append(trees)\n",
    "   auc_scores['train_auc'].append(train_roc_auc)\n",
    "   auc_scores['test_auc'].append(test_roc_auc)\n",
    "\n",
    "#use a table to help determine which n_estimator value is the best \n",
    "rf_table_auc = pd.DataFrame(auc_scores)\n",
    "print(rf_table_auc)\n",
    "\n",
    "#plot auc scores against the n_estimator hyperameter\n",
    "line1, = plt.plot(n_estimator, train_results, 'b', label= 'Train AUC')\n",
    "line2, = plt.plot(n_estimator, test_results, 'r', label= 'Test AUC')\n",
    "plt.legend(handler_map={line1: HandlerLine2D(numpoints=2)})\n",
    "plt.ylabel('AUC score')\n",
    "plt.xlabel('n_estimator')\n",
    "plt.show()"
   ]
  },
  {
   "cell_type": "markdown",
   "metadata": {},
   "source": [
    "# 5. Compare Performance"
   ]
  },
  {
   "cell_type": "code",
   "execution_count": 135,
   "metadata": {},
   "outputs": [
    {
     "name": "stdout",
     "output_type": "stream",
     "text": [
      "model     Random Forest  Adaboost  Gradient Boosting       XGB\n",
      "accuracy       0.839015  0.845218           0.845218  0.844788\n",
      "auc            0.786143  0.746504           0.762192  0.781427\n"
     ]
    }
   ],
   "source": [
    "#store the best values from each run into a dictionary in order to clearly visualize which algorithim perfomed the best. \n",
    "best_scores = [\n",
    "    {'model': 'Random Forest', 'accuracy': 0.839015, 'auc':0.786143},\n",
    "    {'model': 'Adaboost', 'accuracy': 0.845218, 'auc': 0.746504},\n",
    "    {'model': 'Gradient Boosting', 'accuracy': 0.845218, 'auc':0.762192},\n",
    "    {'model': 'XGB', 'accuracy':0.844788 , 'auc':0.781427},]\n",
    "    \n",
    "best_scores_table = pd.DataFrame(best_scores)\n",
    "\n",
    "best_scores_table = best_scores_table.set_index('model').T\n",
    "    \n",
    "print(best_scores_table)"
   ]
  },
  {
   "cell_type": "markdown",
   "metadata": {},
   "source": [
    "Below is my attempt to make a prediction. Unfortunately, I was not able to figure this part out.\n",
    "\n",
    "Q.8 What is the probability that your prediction for this person is correct?\n",
    "\n",
    "The probability that my predicition is correct is 0 because I wasn't able to figure out the code. However, if I did figure out the code, I would say that there's a 84% chance that \n",
    "my predicition is accurate, due the performance metrics, more specifically, the accuracy measurement of my model."
   ]
  },
  {
   "cell_type": "code",
   "execution_count": 136,
   "metadata": {},
   "outputs": [
    {
     "data": {
      "text/html": [
       "<div>\n",
       "<style scoped>\n",
       "    .dataframe tbody tr th:only-of-type {\n",
       "        vertical-align: middle;\n",
       "    }\n",
       "\n",
       "    .dataframe tbody tr th {\n",
       "        vertical-align: top;\n",
       "    }\n",
       "\n",
       "    .dataframe thead th {\n",
       "        text-align: right;\n",
       "    }\n",
       "</style>\n",
       "<table border=\"1\" class=\"dataframe\">\n",
       "  <thead>\n",
       "    <tr style=\"text-align: right;\">\n",
       "      <th></th>\n",
       "      <th>hours_per_week_bin</th>\n",
       "      <th>occupation_bin</th>\n",
       "      <th>msr_bin</th>\n",
       "      <th>capital_gl_bin</th>\n",
       "      <th>race_sex_bin</th>\n",
       "      <th>education_num_bin</th>\n",
       "      <th>education_bin</th>\n",
       "      <th>workclass_bin</th>\n",
       "      <th>age_bin</th>\n",
       "      <th>flag</th>\n",
       "      <th>y</th>\n",
       "    </tr>\n",
       "  </thead>\n",
       "  <tbody>\n",
       "    <tr>\n",
       "      <th>0</th>\n",
       "      <td>41-50</td>\n",
       "      <td>Mid-Low</td>\n",
       "      <td>High</td>\n",
       "      <td>&gt; 0</td>\n",
       "      <td>Mid</td>\n",
       "      <td>9-12</td>\n",
       "      <td>High</td>\n",
       "      <td>Income</td>\n",
       "      <td>41-50</td>\n",
       "      <td>train</td>\n",
       "      <td>0</td>\n",
       "    </tr>\n",
       "  </tbody>\n",
       "</table>\n",
       "</div>"
      ],
      "text/plain": [
       "  hours_per_week_bin occupation_bin msr_bin capital_gl_bin race_sex_bin  \\\n",
       "0              41-50        Mid-Low    High            > 0          Mid   \n",
       "\n",
       "  education_num_bin education_bin workclass_bin age_bin   flag  y  \n",
       "0              9-12          High        Income   41-50  train  0  "
      ]
     },
     "execution_count": 136,
     "metadata": {},
     "output_type": "execute_result"
    }
   ],
   "source": [
    "#Create a new dataframe with new variables\n",
    "\n",
    "new_df = pd.DataFrame.from_dict({'hours_per_week_bin':['41-50'],\n",
    "          'occupation_bin':['Mid-Low'], 'msr_bin': ['High'],\n",
    "               'capital_gl_bin':['> 0'], 'race_sex_bin':['Mid'],\n",
    "               'education_num_bin':['9-12'], 'education_bin':['High'],\n",
    "               'workclass_bin':['Income'],'age_bin':['41-50'],'flag':['train'],\n",
    "               'y': [0]})\n",
    "\n",
    "new_df"
   ]
  },
  {
   "cell_type": "code",
   "execution_count": 137,
   "metadata": {},
   "outputs": [
    {
     "ename": "NameError",
     "evalue": "name 'categorical_cols' is not defined",
     "output_type": "error",
     "traceback": [
      "\u001b[1;31m---------------------------------------------------------------------------\u001b[0m",
      "\u001b[1;31mNameError\u001b[0m                                 Traceback (most recent call last)",
      "Input \u001b[1;32mIn [137]\u001b[0m, in \u001b[0;36m<cell line: 2>\u001b[1;34m()\u001b[0m\n\u001b[0;32m      1\u001b[0m \u001b[38;5;66;03m#encode the data \u001b[39;00m\n\u001b[1;32m----> 2\u001b[0m encoded_new_df \u001b[38;5;241m=\u001b[39m pd\u001b[38;5;241m.\u001b[39mget_dummies(new_df, columns \u001b[38;5;241m=\u001b[39m \u001b[43mcategorical_cols\u001b[49m)\n",
      "\u001b[1;31mNameError\u001b[0m: name 'categorical_cols' is not defined"
     ]
    }
   ],
   "source": [
    "#encode the data \n",
    "encoded_new_df = pd.get_dummies(new_df, columns = categorical_cols)\n"
   ]
  },
  {
   "cell_type": "code",
   "execution_count": null,
   "metadata": {},
   "outputs": [],
   "source": [
    "# Create a single-record DataFrame with the preprocessed data\n",
    "new_person = encoded_new_df.reindex(columns=categorical_cols, fill_value=0)\n",
    "\n",
    "# Use the trained model to predict the income category for the new individual\n",
    "prediction = model.predict(new_person)"
   ]
  },
  {
   "cell_type": "code",
   "execution_count": null,
   "metadata": {},
   "outputs": [],
   "source": [
    "# concatenate new data with training data\n",
    "full_df = pd.concat([new_df, df], ignore_index=True)\n",
    "\n",
    "# encode categorical variables\n",
    "encoded_df = pd.get_dummies(full_df, columns=categorical_cols)\n",
    "\n",
    "# extract the new person data\n",
    "new_person = encoded_df.loc[0].reindex(columns, fill_value=0)\n",
    "\n",
    "# predict the income category\n",
    "prediction = model.predict([new_person])"
   ]
  }
 ],
 "metadata": {
  "colab": {
   "provenance": []
  },
  "kernelspec": {
   "display_name": "Python 3 (ipykernel)",
   "language": "python",
   "name": "python3"
  },
  "language_info": {
   "codemirror_mode": {
    "name": "ipython",
    "version": 3
   },
   "file_extension": ".py",
   "mimetype": "text/x-python",
   "name": "python",
   "nbconvert_exporter": "python",
   "pygments_lexer": "ipython3",
   "version": "3.9.12"
  }
 },
 "nbformat": 4,
 "nbformat_minor": 4
}
